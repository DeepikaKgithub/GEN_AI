{
  "nbformat": 4,
  "nbformat_minor": 0,
  "metadata": {
    "colab": {
      "provenance": []
    },
    "kernelspec": {
      "name": "python3",
      "display_name": "Python 3"
    },
    "language_info": {
      "name": "python"
    }
  },
  "cells": [
    {
      "cell_type": "code",
      "source": [
        "# Install Gradio if not already installed\n",
        "!pip install gradio --quiet\n",
        "\n",
        "import gradio as gr\n",
        "\n",
        "# Recipe database with ingredients and instructions\n",
        "recipes = {\n",
        "    \"Omelette\": {\n",
        "        \"ingredients\": {\"eggs\", \"salt\", \"pepper\", \"oil\"},\n",
        "        \"instructions\": \"\"\"1. Crack the eggs into a bowl and beat them.\\n2. Add salt and pepper.\\n3. Heat oil in a pan.\\n4. Pour in the eggs and cook until set.\\n5. Fold and serve hot.\"\"\"\n",
        "    },\n",
        "    \"Pasta\": {\n",
        "        \"ingredients\": {\"pasta\", \"salt\", \"water\", \"olive oil\"},\n",
        "        \"instructions\": \"\"\"1. Boil water and add salt.\\n2. Add pasta and cook until soft.\\n3. Drain and drizzle olive oil.\\n4. Serve with your choice of sauce or cheese.\"\"\"\n",
        "    },\n",
        "    \"Grilled Cheese\": {\n",
        "        \"ingredients\": {\"bread\", \"cheese\", \"butter\"},\n",
        "        \"instructions\": \"\"\"1. Butter one side of each bread slice.\\n2. Place cheese between the unbuttered sides.\\n3. Grill on a pan until golden brown on both sides.\\n4. Slice and enjoy.\"\"\"\n",
        "    },\n",
        "    \"Salad\": {\n",
        "        \"ingredients\": {\"lettuce\", \"tomato\", \"cucumber\", \"salt\", \"olive oil\"},\n",
        "        \"instructions\": \"\"\"1. Chop lettuce, tomato, and cucumber.\\n2. Mix them in a bowl.\\n3. Add salt and olive oil.\\n4. Toss and serve fresh.\"\"\"\n",
        "    },\n",
        "    \"Maggi\": {\n",
        "        \"ingredients\": {\"maggi\", \"water\", \"salt\", \"masala\"},\n",
        "        \"instructions\": \"\"\"1. Boil water and add Maggi noodles.\\n2. Add the tastemaker (masala) and a pinch of salt.\\n3. Cook for 2-3 minutes until done.\\n4. Serve hot.\"\"\"\n",
        "    },\n",
        "    \"Fried Rice\": {\n",
        "        \"ingredients\": {\"rice\", \"oil\", \"soy sauce\", \"carrot\", \"peas\", \"onion\"},\n",
        "        \"instructions\": \"\"\"1. Heat oil in a wok.\\n2. Add chopped onion, carrot, and peas.\\n3. Stir-fry till soft.\\n4. Add cooked rice and soy sauce.\\n5. Mix well and serve hot.\"\"\"\n",
        "    },\n",
        "    \"Chapati\": {\n",
        "        \"ingredients\": {\"wheat flour\", \"water\", \"salt\", \"oil\"},\n",
        "        \"instructions\": \"\"\"1. Mix wheat flour, salt, and water to make dough.\\n2. Roll into circles.\\n3. Cook on a hot pan with a little oil until golden.\\n4. Serve with curry or veggies.\"\"\"\n",
        "    },\n",
        "}\n",
        "\n",
        "# Gather all unique ingredients\n",
        "all_ingredients = sorted(set(ing for r in recipes.values() for ing in r[\"ingredients\"]))\n",
        "\n",
        "# Recipe suggestion function with instructions\n",
        "def suggest_recipe(selected_ingredients):\n",
        "    selected_set = set(selected_ingredients)\n",
        "    found = []\n",
        "\n",
        "    for recipe, data in recipes.items():\n",
        "        if data[\"ingredients\"].issubset(selected_set):\n",
        "            found.append(f\"🍽️ {recipe}\\n\\n📋 Instructions:\\n{data['instructions']}\\n\")\n",
        "\n",
        "    return \"\\n\\n\".join(found) if found else \"❌ No matching recipes found. Try selecting more ingredients.\"\n",
        "\n",
        "# Gradio UI\n",
        "iface = gr.Interface(\n",
        "    fn=suggest_recipe,\n",
        "    inputs=gr.CheckboxGroup(choices=all_ingredients, label=\"Select the ingredients you have\"),\n",
        "    outputs=gr.Textbox(label=\"Suggested Recipe(s) with Cooking Instructions\"),\n",
        "    title=\"👨‍🍳 Smart Cooking Assistant\",\n",
        "    description=\"Choose your ingredients and get recipes + how to make them!\"\n",
        ")\n",
        "\n",
        "# Launch\n",
        "iface.launch()\n"
      ],
      "metadata": {
        "colab": {
          "base_uri": "https://localhost:8080/",
          "height": 645
        },
        "id": "laTicT-PARse",
        "outputId": "52fca1a3-8749-4a61-980d-c44690d160c1"
      },
      "execution_count": 2,
      "outputs": [
        {
          "output_type": "stream",
          "name": "stdout",
          "text": [
            "It looks like you are running Gradio on a hosted a Jupyter notebook. For the Gradio app to work, sharing must be enabled. Automatically setting `share=True` (you can turn this off by setting `share=False` in `launch()` explicitly).\n",
            "\n",
            "Colab notebook detected. To show errors in colab notebook, set debug=True in launch()\n",
            "* Running on public URL: https://4d435b628ea4e552c0.gradio.live\n",
            "\n",
            "This share link expires in 1 week. For free permanent hosting and GPU upgrades, run `gradio deploy` from the terminal in the working directory to deploy to Hugging Face Spaces (https://huggingface.co/spaces)\n"
          ]
        },
        {
          "output_type": "display_data",
          "data": {
            "text/plain": [
              "<IPython.core.display.HTML object>"
            ],
            "text/html": [
              "<div><iframe src=\"https://4d435b628ea4e552c0.gradio.live\" width=\"100%\" height=\"500\" allow=\"autoplay; camera; microphone; clipboard-read; clipboard-write;\" frameborder=\"0\" allowfullscreen></iframe></div>"
            ]
          },
          "metadata": {}
        },
        {
          "output_type": "execute_result",
          "data": {
            "text/plain": []
          },
          "metadata": {},
          "execution_count": 2
        }
      ]
    },
    {
      "cell_type": "code",
      "source": [],
      "metadata": {
        "id": "jkx1JD11AuSg"
      },
      "execution_count": null,
      "outputs": []
    }
  ]
}
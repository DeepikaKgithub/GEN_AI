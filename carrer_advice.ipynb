{
  "nbformat": 4,
  "nbformat_minor": 0,
  "metadata": {
    "colab": {
      "provenance": []
    },
    "kernelspec": {
      "name": "python3",
      "display_name": "Python 3"
    },
    "language_info": {
      "name": "python"
    }
  },
  "cells": [
    {
      "cell_type": "code",
      "execution_count": 1,
      "metadata": {
        "colab": {
          "base_uri": "https://localhost:8080/"
        },
        "id": "7Qr_AuPlVwaD",
        "outputId": "4998d007-6d1e-4dd0-db90-3da392daafa7"
      },
      "outputs": [
        {
          "output_type": "stream",
          "name": "stdout",
          "text": [
            "Enter your skills, separated by commas: python,sql\n",
            "\n",
            "Based on your skill set, here are some recommended career paths:\n",
            "- Automation Engineer\n",
            "- Data Analyst\n",
            "- Data Engineer\n",
            "- Data Scientist\n",
            "- Database Administrator\n",
            "- Software Developer\n"
          ]
        }
      ],
      "source": [
        "def get_career_advice(skills):\n",
        "    skills = [skill.lower() for skill in skills]  # Normalize input\n",
        "\n",
        "    career_paths = {\n",
        "        'data analytics': ['Data Analyst', 'Business Intelligence Analyst', 'Data Scientist'],\n",
        "        'machine learning': ['Machine Learning Engineer', 'AI Researcher', 'Data Scientist'],\n",
        "        'web development': ['Frontend Developer', 'Backend Developer', 'Full Stack Developer'],\n",
        "        'cloud computing': ['Cloud Engineer', 'DevOps Engineer', 'Site Reliability Engineer'],\n",
        "        'computer vision': ['Computer Vision Engineer', 'AI Developer', 'Research Scientist'],\n",
        "        'sql': ['Database Administrator', 'Data Analyst', 'Data Engineer'],\n",
        "        'excel': ['Data Analyst', 'Operations Analyst', 'Financial Analyst'],\n",
        "        'power bi': ['Business Intelligence Developer', 'Data Analyst'],\n",
        "        'tableau': ['Data Visualization Specialist', 'Business Analyst'],\n",
        "        'nlp': ['NLP Engineer', 'AI Product Developer'],\n",
        "        'python': ['Software Developer', 'Data Scientist', 'Automation Engineer'],\n",
        "        'c': ['Embedded Systems Engineer', 'Firmware Developer'],\n",
        "        'html': ['Frontend Developer', 'UI Developer'],\n",
        "        'r': ['Data Scientist', 'Statistician'],\n",
        "        'deep learning': ['Deep Learning Engineer', 'AI Research Scientist'],\n",
        "    }\n",
        "\n",
        "    recommended_roles = set()\n",
        "\n",
        "    for skill in skills:\n",
        "        for key, roles in career_paths.items():\n",
        "            if key in skill:\n",
        "                recommended_roles.update(roles)\n",
        "\n",
        "    if recommended_roles:\n",
        "        print(\"\\nBased on your skill set, here are some recommended career paths:\")\n",
        "        for role in sorted(recommended_roles):\n",
        "            print(f\"- {role}\")\n",
        "    else:\n",
        "        print(\"\\nSorry, couldn't find a match for the given skills. Try adding more specific or technical skills.\")\n",
        "\n",
        "# Example usage\n",
        "user_skills = input(\"Enter your skills, separated by commas: \").split(',')\n",
        "get_career_advice(user_skills)\n"
      ]
    },
    {
      "cell_type": "code",
      "source": [],
      "metadata": {
        "id": "qFfVqqwQV3h4"
      },
      "execution_count": null,
      "outputs": []
    }
  ]
}